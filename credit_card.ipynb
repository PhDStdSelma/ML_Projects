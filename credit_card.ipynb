{
  "nbformat": 4,
  "nbformat_minor": 0,
  "metadata": {
    "colab": {
      "name": "credit_card.ipynb",
      "provenance": [],
      "mount_file_id": "1mZN_5piGqIELqX34j1GuuV77rlWcnecM",
      "authorship_tag": "ABX9TyNtktEqW0y3hR9Dk28jUaZS"
    },
    "kernelspec": {
      "name": "python3",
      "display_name": "Python 3"
    },
    "language_info": {
      "name": "python"
    }
  },
  "cells": [
    {
      "cell_type": "code",
      "execution_count": 1,
      "metadata": {
        "id": "HBGIir0s9uiF",
        "colab": {
          "base_uri": "https://localhost:8080/"
        },
        "outputId": "bd28b2d4-acf8-419e-c690-e28d5c479938"
      },
      "outputs": [
        {
          "output_type": "stream",
          "name": "stdout",
          "text": [
            "Collecting selenium\n",
            "  Downloading selenium-4.1.0-py3-none-any.whl (958 kB)\n",
            "\u001b[K     |████████████████████████████████| 958 kB 4.1 MB/s \n",
            "\u001b[?25hCollecting urllib3[secure]~=1.26\n",
            "  Downloading urllib3-1.26.8-py2.py3-none-any.whl (138 kB)\n",
            "\u001b[K     |████████████████████████████████| 138 kB 66.3 MB/s \n",
            "\u001b[?25hCollecting trio~=0.17\n",
            "  Downloading trio-0.19.0-py3-none-any.whl (356 kB)\n",
            "\u001b[K     |████████████████████████████████| 356 kB 55.4 MB/s \n",
            "\u001b[?25hCollecting trio-websocket~=0.9\n",
            "  Downloading trio_websocket-0.9.2-py3-none-any.whl (16 kB)\n",
            "Requirement already satisfied: attrs>=19.2.0 in /usr/local/lib/python3.7/dist-packages (from trio~=0.17->selenium) (21.4.0)\n",
            "Collecting async-generator>=1.9\n",
            "  Downloading async_generator-1.10-py3-none-any.whl (18 kB)\n",
            "Requirement already satisfied: sortedcontainers in /usr/local/lib/python3.7/dist-packages (from trio~=0.17->selenium) (2.4.0)\n",
            "Collecting sniffio\n",
            "  Downloading sniffio-1.2.0-py3-none-any.whl (10 kB)\n",
            "Collecting outcome\n",
            "  Downloading outcome-1.1.0-py2.py3-none-any.whl (9.7 kB)\n",
            "Requirement already satisfied: idna in /usr/local/lib/python3.7/dist-packages (from trio~=0.17->selenium) (2.10)\n",
            "Collecting wsproto>=0.14\n",
            "  Downloading wsproto-1.0.0-py3-none-any.whl (24 kB)\n",
            "Requirement already satisfied: certifi in /usr/local/lib/python3.7/dist-packages (from urllib3[secure]~=1.26->selenium) (2021.10.8)\n",
            "Collecting pyOpenSSL>=0.14\n",
            "  Downloading pyOpenSSL-22.0.0-py2.py3-none-any.whl (55 kB)\n",
            "\u001b[K     |████████████████████████████████| 55 kB 4.9 MB/s \n",
            "\u001b[?25hCollecting cryptography>=1.3.4\n",
            "  Downloading cryptography-36.0.1-cp36-abi3-manylinux_2_24_x86_64.whl (3.6 MB)\n",
            "\u001b[K     |████████████████████████████████| 3.6 MB 70.6 MB/s \n",
            "\u001b[?25hRequirement already satisfied: cffi>=1.12 in /usr/local/lib/python3.7/dist-packages (from cryptography>=1.3.4->urllib3[secure]~=1.26->selenium) (1.15.0)\n",
            "Requirement already satisfied: pycparser in /usr/local/lib/python3.7/dist-packages (from cffi>=1.12->cryptography>=1.3.4->urllib3[secure]~=1.26->selenium) (2.21)\n",
            "Collecting h11<1,>=0.9.0\n",
            "  Downloading h11-0.13.0-py3-none-any.whl (58 kB)\n",
            "\u001b[K     |████████████████████████████████| 58 kB 7.0 MB/s \n",
            "\u001b[?25hRequirement already satisfied: typing-extensions in /usr/local/lib/python3.7/dist-packages (from h11<1,>=0.9.0->wsproto>=0.14->trio-websocket~=0.9->selenium) (3.10.0.2)\n",
            "Installing collected packages: sniffio, outcome, h11, cryptography, async-generator, wsproto, urllib3, trio, pyOpenSSL, trio-websocket, selenium\n",
            "  Attempting uninstall: urllib3\n",
            "    Found existing installation: urllib3 1.24.3\n",
            "    Uninstalling urllib3-1.24.3:\n",
            "      Successfully uninstalled urllib3-1.24.3\n",
            "\u001b[31mERROR: pip's dependency resolver does not currently take into account all the packages that are installed. This behaviour is the source of the following dependency conflicts.\n",
            "requests 2.23.0 requires urllib3!=1.25.0,!=1.25.1,<1.26,>=1.21.1, but you have urllib3 1.26.8 which is incompatible.\n",
            "datascience 0.10.6 requires folium==0.2.1, but you have folium 0.8.3 which is incompatible.\u001b[0m\n",
            "Successfully installed async-generator-1.10 cryptography-36.0.1 h11-0.13.0 outcome-1.1.0 pyOpenSSL-22.0.0 selenium-4.1.0 sniffio-1.2.0 trio-0.19.0 trio-websocket-0.9.2 urllib3-1.26.8 wsproto-1.0.0\n"
          ]
        }
      ],
      "source": [
        "pip install selenium"
      ]
    },
    {
      "cell_type": "code",
      "source": [
        "import pandas as pd\n",
        "from sklearn.model_selection import KFold\n",
        "\n",
        "import numpy as np\n",
        "import matplotlib.pyplot as plt\n",
        "import seaborn as sns\n",
        "%matplotlib inline\n",
        "from sklearn.model_selection import train_test_split\n",
        "from sklearn.preprocessing import StandardScaler\n",
        "from sklearn.preprocessing import LabelEncoder\n",
        "from sklearn.utils import shuffle\n",
        "from sklearn.metrics import accuracy_score, classification_report, confusion_matrix, roc_auc_score,roc_curve, auc\n",
        "from sklearn.linear_model import LogisticRegression\n",
        "from sklearn.tree import DecisionTreeClassifier\n",
        "from sklearn.neighbors import KNeighborsClassifier \n",
        "from IPython.display import Image  \n",
        "import graphviz\n",
        "from sklearn.tree import export_graphviz, plot_tree\n",
        "from sklearn.ensemble import AdaBoostClassifier, BaggingClassifier, GradientBoostingClassifier, RandomForestClassifier, VotingClassifier"
      ],
      "metadata": {
        "id": "AFCV1HVaNeG7"
      },
      "execution_count": 2,
      "outputs": []
    },
    {
      "cell_type": "markdown",
      "source": [
        "# **DATA ANALYSIS**"
      ],
      "metadata": {
        "id": "LKpqFgxbnBj_"
      }
    },
    {
      "cell_type": "code",
      "source": [
        "credit_card= pd.read_csv('/content/drive/MyDrive/AER_credit_card_data.csv')\n",
        "credit_card.info()\n",
        "credit_card.head(8)"
      ],
      "metadata": {
        "colab": {
          "base_uri": "https://localhost:8080/",
          "height": 694
        },
        "id": "MCWJY2LzOu4a",
        "outputId": "b93c5a18-5bf5-45a8-eb73-c7ce9f5e8b7b"
      },
      "execution_count": 3,
      "outputs": [
        {
          "output_type": "stream",
          "name": "stdout",
          "text": [
            "<class 'pandas.core.frame.DataFrame'>\n",
            "RangeIndex: 1319 entries, 0 to 1318\n",
            "Data columns (total 12 columns):\n",
            " #   Column       Non-Null Count  Dtype  \n",
            "---  ------       --------------  -----  \n",
            " 0   card         1319 non-null   object \n",
            " 1   reports      1319 non-null   int64  \n",
            " 2   age          1319 non-null   float64\n",
            " 3   income       1319 non-null   float64\n",
            " 4   share        1319 non-null   float64\n",
            " 5   expenditure  1319 non-null   float64\n",
            " 6   owner        1319 non-null   object \n",
            " 7   selfemp      1319 non-null   object \n",
            " 8   dependents   1319 non-null   int64  \n",
            " 9   months       1319 non-null   int64  \n",
            " 10  majorcards   1319 non-null   int64  \n",
            " 11  active       1319 non-null   int64  \n",
            "dtypes: float64(4), int64(5), object(3)\n",
            "memory usage: 123.8+ KB\n"
          ]
        },
        {
          "output_type": "execute_result",
          "data": {
            "text/html": [
              "\n",
              "  <div id=\"df-25733e34-4826-4489-ab60-fba5be863c0a\">\n",
              "    <div class=\"colab-df-container\">\n",
              "      <div>\n",
              "<style scoped>\n",
              "    .dataframe tbody tr th:only-of-type {\n",
              "        vertical-align: middle;\n",
              "    }\n",
              "\n",
              "    .dataframe tbody tr th {\n",
              "        vertical-align: top;\n",
              "    }\n",
              "\n",
              "    .dataframe thead th {\n",
              "        text-align: right;\n",
              "    }\n",
              "</style>\n",
              "<table border=\"1\" class=\"dataframe\">\n",
              "  <thead>\n",
              "    <tr style=\"text-align: right;\">\n",
              "      <th></th>\n",
              "      <th>card</th>\n",
              "      <th>reports</th>\n",
              "      <th>age</th>\n",
              "      <th>income</th>\n",
              "      <th>share</th>\n",
              "      <th>expenditure</th>\n",
              "      <th>owner</th>\n",
              "      <th>selfemp</th>\n",
              "      <th>dependents</th>\n",
              "      <th>months</th>\n",
              "      <th>majorcards</th>\n",
              "      <th>active</th>\n",
              "    </tr>\n",
              "  </thead>\n",
              "  <tbody>\n",
              "    <tr>\n",
              "      <th>0</th>\n",
              "      <td>yes</td>\n",
              "      <td>0</td>\n",
              "      <td>37.66667</td>\n",
              "      <td>4.5200</td>\n",
              "      <td>0.033270</td>\n",
              "      <td>124.983300</td>\n",
              "      <td>yes</td>\n",
              "      <td>no</td>\n",
              "      <td>3</td>\n",
              "      <td>54</td>\n",
              "      <td>1</td>\n",
              "      <td>12</td>\n",
              "    </tr>\n",
              "    <tr>\n",
              "      <th>1</th>\n",
              "      <td>yes</td>\n",
              "      <td>0</td>\n",
              "      <td>33.25000</td>\n",
              "      <td>2.4200</td>\n",
              "      <td>0.005217</td>\n",
              "      <td>9.854167</td>\n",
              "      <td>no</td>\n",
              "      <td>no</td>\n",
              "      <td>3</td>\n",
              "      <td>34</td>\n",
              "      <td>1</td>\n",
              "      <td>13</td>\n",
              "    </tr>\n",
              "    <tr>\n",
              "      <th>2</th>\n",
              "      <td>yes</td>\n",
              "      <td>0</td>\n",
              "      <td>33.66667</td>\n",
              "      <td>4.5000</td>\n",
              "      <td>0.004156</td>\n",
              "      <td>15.000000</td>\n",
              "      <td>yes</td>\n",
              "      <td>no</td>\n",
              "      <td>4</td>\n",
              "      <td>58</td>\n",
              "      <td>1</td>\n",
              "      <td>5</td>\n",
              "    </tr>\n",
              "    <tr>\n",
              "      <th>3</th>\n",
              "      <td>yes</td>\n",
              "      <td>0</td>\n",
              "      <td>30.50000</td>\n",
              "      <td>2.5400</td>\n",
              "      <td>0.065214</td>\n",
              "      <td>137.869200</td>\n",
              "      <td>no</td>\n",
              "      <td>no</td>\n",
              "      <td>0</td>\n",
              "      <td>25</td>\n",
              "      <td>1</td>\n",
              "      <td>7</td>\n",
              "    </tr>\n",
              "    <tr>\n",
              "      <th>4</th>\n",
              "      <td>yes</td>\n",
              "      <td>0</td>\n",
              "      <td>32.16667</td>\n",
              "      <td>9.7867</td>\n",
              "      <td>0.067051</td>\n",
              "      <td>546.503300</td>\n",
              "      <td>yes</td>\n",
              "      <td>no</td>\n",
              "      <td>2</td>\n",
              "      <td>64</td>\n",
              "      <td>1</td>\n",
              "      <td>5</td>\n",
              "    </tr>\n",
              "    <tr>\n",
              "      <th>5</th>\n",
              "      <td>yes</td>\n",
              "      <td>0</td>\n",
              "      <td>23.25000</td>\n",
              "      <td>2.5000</td>\n",
              "      <td>0.044438</td>\n",
              "      <td>91.996670</td>\n",
              "      <td>no</td>\n",
              "      <td>no</td>\n",
              "      <td>0</td>\n",
              "      <td>54</td>\n",
              "      <td>1</td>\n",
              "      <td>1</td>\n",
              "    </tr>\n",
              "    <tr>\n",
              "      <th>6</th>\n",
              "      <td>yes</td>\n",
              "      <td>0</td>\n",
              "      <td>27.91667</td>\n",
              "      <td>3.9600</td>\n",
              "      <td>0.012576</td>\n",
              "      <td>40.833330</td>\n",
              "      <td>no</td>\n",
              "      <td>no</td>\n",
              "      <td>2</td>\n",
              "      <td>7</td>\n",
              "      <td>1</td>\n",
              "      <td>5</td>\n",
              "    </tr>\n",
              "    <tr>\n",
              "      <th>7</th>\n",
              "      <td>yes</td>\n",
              "      <td>0</td>\n",
              "      <td>29.16667</td>\n",
              "      <td>2.3700</td>\n",
              "      <td>0.076434</td>\n",
              "      <td>150.790000</td>\n",
              "      <td>yes</td>\n",
              "      <td>no</td>\n",
              "      <td>0</td>\n",
              "      <td>77</td>\n",
              "      <td>1</td>\n",
              "      <td>3</td>\n",
              "    </tr>\n",
              "  </tbody>\n",
              "</table>\n",
              "</div>\n",
              "      <button class=\"colab-df-convert\" onclick=\"convertToInteractive('df-25733e34-4826-4489-ab60-fba5be863c0a')\"\n",
              "              title=\"Convert this dataframe to an interactive table.\"\n",
              "              style=\"display:none;\">\n",
              "        \n",
              "  <svg xmlns=\"http://www.w3.org/2000/svg\" height=\"24px\"viewBox=\"0 0 24 24\"\n",
              "       width=\"24px\">\n",
              "    <path d=\"M0 0h24v24H0V0z\" fill=\"none\"/>\n",
              "    <path d=\"M18.56 5.44l.94 2.06.94-2.06 2.06-.94-2.06-.94-.94-2.06-.94 2.06-2.06.94zm-11 1L8.5 8.5l.94-2.06 2.06-.94-2.06-.94L8.5 2.5l-.94 2.06-2.06.94zm10 10l.94 2.06.94-2.06 2.06-.94-2.06-.94-.94-2.06-.94 2.06-2.06.94z\"/><path d=\"M17.41 7.96l-1.37-1.37c-.4-.4-.92-.59-1.43-.59-.52 0-1.04.2-1.43.59L10.3 9.45l-7.72 7.72c-.78.78-.78 2.05 0 2.83L4 21.41c.39.39.9.59 1.41.59.51 0 1.02-.2 1.41-.59l7.78-7.78 2.81-2.81c.8-.78.8-2.07 0-2.86zM5.41 20L4 18.59l7.72-7.72 1.47 1.35L5.41 20z\"/>\n",
              "  </svg>\n",
              "      </button>\n",
              "      \n",
              "  <style>\n",
              "    .colab-df-container {\n",
              "      display:flex;\n",
              "      flex-wrap:wrap;\n",
              "      gap: 12px;\n",
              "    }\n",
              "\n",
              "    .colab-df-convert {\n",
              "      background-color: #E8F0FE;\n",
              "      border: none;\n",
              "      border-radius: 50%;\n",
              "      cursor: pointer;\n",
              "      display: none;\n",
              "      fill: #1967D2;\n",
              "      height: 32px;\n",
              "      padding: 0 0 0 0;\n",
              "      width: 32px;\n",
              "    }\n",
              "\n",
              "    .colab-df-convert:hover {\n",
              "      background-color: #E2EBFA;\n",
              "      box-shadow: 0px 1px 2px rgba(60, 64, 67, 0.3), 0px 1px 3px 1px rgba(60, 64, 67, 0.15);\n",
              "      fill: #174EA6;\n",
              "    }\n",
              "\n",
              "    [theme=dark] .colab-df-convert {\n",
              "      background-color: #3B4455;\n",
              "      fill: #D2E3FC;\n",
              "    }\n",
              "\n",
              "    [theme=dark] .colab-df-convert:hover {\n",
              "      background-color: #434B5C;\n",
              "      box-shadow: 0px 1px 3px 1px rgba(0, 0, 0, 0.15);\n",
              "      filter: drop-shadow(0px 1px 2px rgba(0, 0, 0, 0.3));\n",
              "      fill: #FFFFFF;\n",
              "    }\n",
              "  </style>\n",
              "\n",
              "      <script>\n",
              "        const buttonEl =\n",
              "          document.querySelector('#df-25733e34-4826-4489-ab60-fba5be863c0a button.colab-df-convert');\n",
              "        buttonEl.style.display =\n",
              "          google.colab.kernel.accessAllowed ? 'block' : 'none';\n",
              "\n",
              "        async function convertToInteractive(key) {\n",
              "          const element = document.querySelector('#df-25733e34-4826-4489-ab60-fba5be863c0a');\n",
              "          const dataTable =\n",
              "            await google.colab.kernel.invokeFunction('convertToInteractive',\n",
              "                                                     [key], {});\n",
              "          if (!dataTable) return;\n",
              "\n",
              "          const docLinkHtml = 'Like what you see? Visit the ' +\n",
              "            '<a target=\"_blank\" href=https://colab.research.google.com/notebooks/data_table.ipynb>data table notebook</a>'\n",
              "            + ' to learn more about interactive tables.';\n",
              "          element.innerHTML = '';\n",
              "          dataTable['output_type'] = 'display_data';\n",
              "          await google.colab.output.renderOutput(dataTable, element);\n",
              "          const docLink = document.createElement('div');\n",
              "          docLink.innerHTML = docLinkHtml;\n",
              "          element.appendChild(docLink);\n",
              "        }\n",
              "      </script>\n",
              "    </div>\n",
              "  </div>\n",
              "  "
            ],
            "text/plain": [
              "  card  reports       age  income  ...  dependents  months majorcards active\n",
              "0  yes        0  37.66667  4.5200  ...           3      54          1     12\n",
              "1  yes        0  33.25000  2.4200  ...           3      34          1     13\n",
              "2  yes        0  33.66667  4.5000  ...           4      58          1      5\n",
              "3  yes        0  30.50000  2.5400  ...           0      25          1      7\n",
              "4  yes        0  32.16667  9.7867  ...           2      64          1      5\n",
              "5  yes        0  23.25000  2.5000  ...           0      54          1      1\n",
              "6  yes        0  27.91667  3.9600  ...           2       7          1      5\n",
              "7  yes        0  29.16667  2.3700  ...           0      77          1      3\n",
              "\n",
              "[8 rows x 12 columns]"
            ]
          },
          "metadata": {},
          "execution_count": 3
        }
      ]
    },
    {
      "cell_type": "code",
      "source": [
        "credit_card.columns\n"
      ],
      "metadata": {
        "colab": {
          "base_uri": "https://localhost:8080/"
        },
        "id": "KK2Jc2zCPJHm",
        "outputId": "99c655c7-1abd-49ef-f30c-070357b3b453"
      },
      "execution_count": 4,
      "outputs": [
        {
          "output_type": "execute_result",
          "data": {
            "text/plain": [
              "Index(['card', 'reports', 'age', 'income', 'share', 'expenditure', 'owner',\n",
              "       'selfemp', 'dependents', 'months', 'majorcards', 'active'],\n",
              "      dtype='object')"
            ]
          },
          "metadata": {},
          "execution_count": 4
        }
      ]
    },
    {
      "cell_type": "code",
      "source": [
        "credit_card.isnull().sum()\n"
      ],
      "metadata": {
        "colab": {
          "base_uri": "https://localhost:8080/"
        },
        "id": "6CiLoAZcPSq-",
        "outputId": "a4723121-2233-4401-e247-a745b5613a18"
      },
      "execution_count": 5,
      "outputs": [
        {
          "output_type": "execute_result",
          "data": {
            "text/plain": [
              "card           0\n",
              "reports        0\n",
              "age            0\n",
              "income         0\n",
              "share          0\n",
              "expenditure    0\n",
              "owner          0\n",
              "selfemp        0\n",
              "dependents     0\n",
              "months         0\n",
              "majorcards     0\n",
              "active         0\n",
              "dtype: int64"
            ]
          },
          "metadata": {},
          "execution_count": 5
        }
      ]
    },
    {
      "cell_type": "code",
      "source": [
        "credit_card.describe().T\n"
      ],
      "metadata": {
        "colab": {
          "base_uri": "https://localhost:8080/",
          "height": 331
        },
        "id": "5Y3-N7qlPYE1",
        "outputId": "22053daf-e3ee-4e57-fa6c-b13023be01c1"
      },
      "execution_count": 6,
      "outputs": [
        {
          "output_type": "execute_result",
          "data": {
            "text/html": [
              "\n",
              "  <div id=\"df-b317f733-f79c-438b-9f0d-5f95439cb525\">\n",
              "    <div class=\"colab-df-container\">\n",
              "      <div>\n",
              "<style scoped>\n",
              "    .dataframe tbody tr th:only-of-type {\n",
              "        vertical-align: middle;\n",
              "    }\n",
              "\n",
              "    .dataframe tbody tr th {\n",
              "        vertical-align: top;\n",
              "    }\n",
              "\n",
              "    .dataframe thead th {\n",
              "        text-align: right;\n",
              "    }\n",
              "</style>\n",
              "<table border=\"1\" class=\"dataframe\">\n",
              "  <thead>\n",
              "    <tr style=\"text-align: right;\">\n",
              "      <th></th>\n",
              "      <th>count</th>\n",
              "      <th>mean</th>\n",
              "      <th>std</th>\n",
              "      <th>min</th>\n",
              "      <th>25%</th>\n",
              "      <th>50%</th>\n",
              "      <th>75%</th>\n",
              "      <th>max</th>\n",
              "    </tr>\n",
              "  </thead>\n",
              "  <tbody>\n",
              "    <tr>\n",
              "      <th>reports</th>\n",
              "      <td>1319.0</td>\n",
              "      <td>0.456406</td>\n",
              "      <td>1.345267</td>\n",
              "      <td>0.000000</td>\n",
              "      <td>0.000000</td>\n",
              "      <td>0.000000</td>\n",
              "      <td>0.000000</td>\n",
              "      <td>14.00000</td>\n",
              "    </tr>\n",
              "    <tr>\n",
              "      <th>age</th>\n",
              "      <td>1319.0</td>\n",
              "      <td>33.213103</td>\n",
              "      <td>10.142783</td>\n",
              "      <td>0.166667</td>\n",
              "      <td>25.416670</td>\n",
              "      <td>31.250000</td>\n",
              "      <td>39.416670</td>\n",
              "      <td>83.50000</td>\n",
              "    </tr>\n",
              "    <tr>\n",
              "      <th>income</th>\n",
              "      <td>1319.0</td>\n",
              "      <td>3.365376</td>\n",
              "      <td>1.693902</td>\n",
              "      <td>0.210000</td>\n",
              "      <td>2.243750</td>\n",
              "      <td>2.900000</td>\n",
              "      <td>4.000000</td>\n",
              "      <td>13.50000</td>\n",
              "    </tr>\n",
              "    <tr>\n",
              "      <th>share</th>\n",
              "      <td>1319.0</td>\n",
              "      <td>0.068732</td>\n",
              "      <td>0.094656</td>\n",
              "      <td>0.000109</td>\n",
              "      <td>0.002316</td>\n",
              "      <td>0.038827</td>\n",
              "      <td>0.093617</td>\n",
              "      <td>0.90632</td>\n",
              "    </tr>\n",
              "    <tr>\n",
              "      <th>expenditure</th>\n",
              "      <td>1319.0</td>\n",
              "      <td>185.057071</td>\n",
              "      <td>272.218917</td>\n",
              "      <td>0.000000</td>\n",
              "      <td>4.583333</td>\n",
              "      <td>101.298300</td>\n",
              "      <td>249.035800</td>\n",
              "      <td>3099.50500</td>\n",
              "    </tr>\n",
              "    <tr>\n",
              "      <th>dependents</th>\n",
              "      <td>1319.0</td>\n",
              "      <td>0.993935</td>\n",
              "      <td>1.247745</td>\n",
              "      <td>0.000000</td>\n",
              "      <td>0.000000</td>\n",
              "      <td>1.000000</td>\n",
              "      <td>2.000000</td>\n",
              "      <td>6.00000</td>\n",
              "    </tr>\n",
              "    <tr>\n",
              "      <th>months</th>\n",
              "      <td>1319.0</td>\n",
              "      <td>55.267627</td>\n",
              "      <td>66.271746</td>\n",
              "      <td>0.000000</td>\n",
              "      <td>12.000000</td>\n",
              "      <td>30.000000</td>\n",
              "      <td>72.000000</td>\n",
              "      <td>540.00000</td>\n",
              "    </tr>\n",
              "    <tr>\n",
              "      <th>majorcards</th>\n",
              "      <td>1319.0</td>\n",
              "      <td>0.817286</td>\n",
              "      <td>0.386579</td>\n",
              "      <td>0.000000</td>\n",
              "      <td>1.000000</td>\n",
              "      <td>1.000000</td>\n",
              "      <td>1.000000</td>\n",
              "      <td>1.00000</td>\n",
              "    </tr>\n",
              "    <tr>\n",
              "      <th>active</th>\n",
              "      <td>1319.0</td>\n",
              "      <td>6.996967</td>\n",
              "      <td>6.305812</td>\n",
              "      <td>0.000000</td>\n",
              "      <td>2.000000</td>\n",
              "      <td>6.000000</td>\n",
              "      <td>11.000000</td>\n",
              "      <td>46.00000</td>\n",
              "    </tr>\n",
              "  </tbody>\n",
              "</table>\n",
              "</div>\n",
              "      <button class=\"colab-df-convert\" onclick=\"convertToInteractive('df-b317f733-f79c-438b-9f0d-5f95439cb525')\"\n",
              "              title=\"Convert this dataframe to an interactive table.\"\n",
              "              style=\"display:none;\">\n",
              "        \n",
              "  <svg xmlns=\"http://www.w3.org/2000/svg\" height=\"24px\"viewBox=\"0 0 24 24\"\n",
              "       width=\"24px\">\n",
              "    <path d=\"M0 0h24v24H0V0z\" fill=\"none\"/>\n",
              "    <path d=\"M18.56 5.44l.94 2.06.94-2.06 2.06-.94-2.06-.94-.94-2.06-.94 2.06-2.06.94zm-11 1L8.5 8.5l.94-2.06 2.06-.94-2.06-.94L8.5 2.5l-.94 2.06-2.06.94zm10 10l.94 2.06.94-2.06 2.06-.94-2.06-.94-.94-2.06-.94 2.06-2.06.94z\"/><path d=\"M17.41 7.96l-1.37-1.37c-.4-.4-.92-.59-1.43-.59-.52 0-1.04.2-1.43.59L10.3 9.45l-7.72 7.72c-.78.78-.78 2.05 0 2.83L4 21.41c.39.39.9.59 1.41.59.51 0 1.02-.2 1.41-.59l7.78-7.78 2.81-2.81c.8-.78.8-2.07 0-2.86zM5.41 20L4 18.59l7.72-7.72 1.47 1.35L5.41 20z\"/>\n",
              "  </svg>\n",
              "      </button>\n",
              "      \n",
              "  <style>\n",
              "    .colab-df-container {\n",
              "      display:flex;\n",
              "      flex-wrap:wrap;\n",
              "      gap: 12px;\n",
              "    }\n",
              "\n",
              "    .colab-df-convert {\n",
              "      background-color: #E8F0FE;\n",
              "      border: none;\n",
              "      border-radius: 50%;\n",
              "      cursor: pointer;\n",
              "      display: none;\n",
              "      fill: #1967D2;\n",
              "      height: 32px;\n",
              "      padding: 0 0 0 0;\n",
              "      width: 32px;\n",
              "    }\n",
              "\n",
              "    .colab-df-convert:hover {\n",
              "      background-color: #E2EBFA;\n",
              "      box-shadow: 0px 1px 2px rgba(60, 64, 67, 0.3), 0px 1px 3px 1px rgba(60, 64, 67, 0.15);\n",
              "      fill: #174EA6;\n",
              "    }\n",
              "\n",
              "    [theme=dark] .colab-df-convert {\n",
              "      background-color: #3B4455;\n",
              "      fill: #D2E3FC;\n",
              "    }\n",
              "\n",
              "    [theme=dark] .colab-df-convert:hover {\n",
              "      background-color: #434B5C;\n",
              "      box-shadow: 0px 1px 3px 1px rgba(0, 0, 0, 0.15);\n",
              "      filter: drop-shadow(0px 1px 2px rgba(0, 0, 0, 0.3));\n",
              "      fill: #FFFFFF;\n",
              "    }\n",
              "  </style>\n",
              "\n",
              "      <script>\n",
              "        const buttonEl =\n",
              "          document.querySelector('#df-b317f733-f79c-438b-9f0d-5f95439cb525 button.colab-df-convert');\n",
              "        buttonEl.style.display =\n",
              "          google.colab.kernel.accessAllowed ? 'block' : 'none';\n",
              "\n",
              "        async function convertToInteractive(key) {\n",
              "          const element = document.querySelector('#df-b317f733-f79c-438b-9f0d-5f95439cb525');\n",
              "          const dataTable =\n",
              "            await google.colab.kernel.invokeFunction('convertToInteractive',\n",
              "                                                     [key], {});\n",
              "          if (!dataTable) return;\n",
              "\n",
              "          const docLinkHtml = 'Like what you see? Visit the ' +\n",
              "            '<a target=\"_blank\" href=https://colab.research.google.com/notebooks/data_table.ipynb>data table notebook</a>'\n",
              "            + ' to learn more about interactive tables.';\n",
              "          element.innerHTML = '';\n",
              "          dataTable['output_type'] = 'display_data';\n",
              "          await google.colab.output.renderOutput(dataTable, element);\n",
              "          const docLink = document.createElement('div');\n",
              "          docLink.innerHTML = docLinkHtml;\n",
              "          element.appendChild(docLink);\n",
              "        }\n",
              "      </script>\n",
              "    </div>\n",
              "  </div>\n",
              "  "
            ],
            "text/plain": [
              "              count        mean         std  ...         50%         75%         max\n",
              "reports      1319.0    0.456406    1.345267  ...    0.000000    0.000000    14.00000\n",
              "age          1319.0   33.213103   10.142783  ...   31.250000   39.416670    83.50000\n",
              "income       1319.0    3.365376    1.693902  ...    2.900000    4.000000    13.50000\n",
              "share        1319.0    0.068732    0.094656  ...    0.038827    0.093617     0.90632\n",
              "expenditure  1319.0  185.057071  272.218917  ...  101.298300  249.035800  3099.50500\n",
              "dependents   1319.0    0.993935    1.247745  ...    1.000000    2.000000     6.00000\n",
              "months       1319.0   55.267627   66.271746  ...   30.000000   72.000000   540.00000\n",
              "majorcards   1319.0    0.817286    0.386579  ...    1.000000    1.000000     1.00000\n",
              "active       1319.0    6.996967    6.305812  ...    6.000000   11.000000    46.00000\n",
              "\n",
              "[9 rows x 8 columns]"
            ]
          },
          "metadata": {},
          "execution_count": 6
        }
      ]
    },
    {
      "cell_type": "code",
      "source": [
        "credit_card['card']=LabelEncoder().fit_transform(credit_card['card'])\n",
        "credit_card['selfemp']=LabelEncoder().fit_transform(credit_card['selfemp'])\n",
        "credit_card['owner']=LabelEncoder().fit_transform(credit_card['owner'])"
      ],
      "metadata": {
        "id": "SP4VmrJ6Pm2H"
      },
      "execution_count": 7,
      "outputs": []
    },
    {
      "cell_type": "code",
      "source": [
        "sns.heatmap(credit_card.corr(), square=True, cmap='RdYlGn')\n"
      ],
      "metadata": {
        "colab": {
          "base_uri": "https://localhost:8080/",
          "height": 337
        },
        "id": "oYOG-rIWSyyj",
        "outputId": "4b5a653d-a027-4987-dc9b-566c736f5699"
      },
      "execution_count": 8,
      "outputs": [
        {
          "output_type": "execute_result",
          "data": {
            "text/plain": [
              "<matplotlib.axes._subplots.AxesSubplot at 0x7fa2ea5c3d50>"
            ]
          },
          "metadata": {},
          "execution_count": 8
        },
        {
          "output_type": "display_data",
          "data": {
            "image/png": "[encoded data removed]",
            "text/plain": [
              "<Figure size 432x288 with 2 Axes>"
            ]
          },
          "metadata": {
            "needs_background": "light"
          }
        }
      ]
    },
    {
      "cell_type": "code",
      "source": [
        "X= credit_card.drop('card', axis=1)\n",
        "y= credit_card['card']"
      ],
      "metadata": {
        "id": "mYSDbGJ7TvoI"
      },
      "execution_count": 9,
      "outputs": []
    },
    {
      "cell_type": "code",
      "source": [
        "X_train, X_test, y_train, y_test = train_test_split(X, y, test_size=0.2,random_state=42)\n",
        "print(len(X_train))\n",
        "print(len(X_test))"
      ],
      "metadata": {
        "colab": {
          "base_uri": "https://localhost:8080/"
        },
        "id": "fNbXrq0dUDS2",
        "outputId": "c32d2a5c-0360-45e3-e24c-454c4c91153a"
      },
      "execution_count": 10,
      "outputs": [
        {
          "output_type": "stream",
          "name": "stdout",
          "text": [
            "1055\n",
            "264\n"
          ]
        }
      ]
    },
    {
      "cell_type": "code",
      "source": [
        "sc=StandardScaler()\n",
        "X_train = sc.fit_transform(X_train[['age', 'income', 'share', 'expenditure', 'months', 'active']])\n",
        "X_test = sc.transform(X_test[['age', 'income', 'share', 'expenditure', 'months', 'active']])"
      ],
      "metadata": {
        "id": "WkG5NCiIXS_I"
      },
      "execution_count": 11,
      "outputs": []
    },
    {
      "cell_type": "markdown",
      "source": [
        "# **Decision tree**"
      ],
      "metadata": {
        "id": "1M_uBKZtzjaz"
      }
    },
    {
      "cell_type": "code",
      "source": [
        "dt = DecisionTreeClassifier(max_depth=2,\n",
        "                            \n",
        "                            random_state=1111)\n",
        "\n",
        "\n",
        "dt.get_params()\n",
        "\n",
        "\n",
        "dt.fit(X_train, y_train)"
      ],
      "metadata": {
        "colab": {
          "base_uri": "https://localhost:8080/"
        },
        "id": "lmjJLn0UzheI",
        "outputId": "989ff9a2-a9b5-4d4b-fd54-12e5557a5dcc"
      },
      "execution_count": 12,
      "outputs": [
        {
          "output_type": "execute_result",
          "data": {
            "text/plain": [
              "DecisionTreeClassifier(max_depth=2, random_state=1111)"
            ]
          },
          "metadata": {},
          "execution_count": 12
        }
      ]
    },
    {
      "cell_type": "code",
      "source": [
        "preds = dt.predict(X_test)\n",
        "print(\"*\"*54)\n",
        "acc = accuracy_score(preds, y_test)\n",
        "print(\"Test set accuracy: {:.2f}\".format(acc))\n",
        "\n",
        "print(\"*\"*54)\n",
        "print(confusion_matrix(y_test,preds), \"\\n\")\n",
        "\n",
        "print(\"*\"*54)\n",
        "print(classification_report(y_test,preds))\n",
        "print(\"*\"*54)\n"
      ],
      "metadata": {
        "colab": {
          "base_uri": "https://localhost:8080/"
        },
        "id": "Oa5uxjyO0Ixl",
        "outputId": "c070e1dd-263c-48df-c52f-d6706f8e3864"
      },
      "execution_count": 13,
      "outputs": [
        {
          "output_type": "stream",
          "name": "stdout",
          "text": [
            "******************************************************\n",
            "Test set accuracy: 0.98\n",
            "******************************************************\n",
            "[[ 62   0]\n",
            " [  6 196]] \n",
            "\n",
            "******************************************************\n",
            "              precision    recall  f1-score   support\n",
            "\n",
            "           0       0.91      1.00      0.95        62\n",
            "           1       1.00      0.97      0.98       202\n",
            "\n",
            "    accuracy                           0.98       264\n",
            "   macro avg       0.96      0.99      0.97       264\n",
            "weighted avg       0.98      0.98      0.98       264\n",
            "\n",
            "******************************************************\n"
          ]
        }
      ]
    },
    {
      "cell_type": "code",
      "source": [
        "pip install -U graphviz\n"
      ],
      "metadata": {
        "colab": {
          "base_uri": "https://localhost:8080/",
          "height": 277
        },
        "id": "TSJtxvQE0XgF",
        "outputId": "1ac2b517-8fee-4f50-d711-94c41052df13"
      },
      "execution_count": 14,
      "outputs": [
        {
          "output_type": "stream",
          "name": "stdout",
          "text": [
            "Requirement already satisfied: graphviz in /usr/local/lib/python3.7/dist-packages (0.10.1)\n",
            "Collecting graphviz\n",
            "  Downloading graphviz-0.19.1-py3-none-any.whl (46 kB)\n",
            "\u001b[K     |████████████████████████████████| 46 kB 1.7 MB/s \n",
            "\u001b[?25hInstalling collected packages: graphviz\n",
            "  Attempting uninstall: graphviz\n",
            "    Found existing installation: graphviz 0.10.1\n",
            "    Uninstalling graphviz-0.10.1:\n",
            "      Successfully uninstalled graphviz-0.10.1\n",
            "Successfully installed graphviz-0.19.1\n"
          ]
        },
        {
          "output_type": "display_data",
          "data": {
            "application/vnd.colab-display-data+json": {
              "pip_warning": {
                "packages": [
                  "graphviz"
                ]
              }
            }
          },
          "metadata": {}
        }
      ]
    },
    {
      "cell_type": "code",
      "source": [
        "\n",
        "from IPython.display import Image  \n",
        "import graphviz\n",
        "from sklearn.tree import export_graphviz"
      ],
      "metadata": {
        "id": "b8KtM88-0ZVu"
      },
      "execution_count": 15,
      "outputs": []
    },
    {
      "cell_type": "code",
      "source": [
        "# -------------------------\n",
        "features = list(credit_card.columns[1:])\n",
        "features\n"
      ],
      "metadata": {
        "colab": {
          "base_uri": "https://localhost:8080/"
        },
        "id": "g5rDGl4g0ei7",
        "outputId": "1ef2533f-cdb4-46c9-e732-a796d7a5ba1e"
      },
      "execution_count": 16,
      "outputs": [
        {
          "output_type": "execute_result",
          "data": {
            "text/plain": [
              "['reports',\n",
              " 'age',\n",
              " 'income',\n",
              " 'share',\n",
              " 'expenditure',\n",
              " 'owner',\n",
              " 'selfemp',\n",
              " 'dependents',\n",
              " 'months',\n",
              " 'majorcards',\n",
              " 'active']"
            ]
          },
          "metadata": {},
          "execution_count": 16
        }
      ]
    },
    {
      "cell_type": "code",
      "source": [
        "plt.figure(figsize=(14, 8))\n",
        "\n",
        "text_split_info = plot_tree(dt, rounded=True, fontsize=14)"
      ],
      "metadata": {
        "colab": {
          "base_uri": "https://localhost:8080/",
          "height": 466
        },
        "id": "3WjlscYZ0uLK",
        "outputId": "37fe709b-5471-48bc-9ea0-db90cfc44214"
      },
      "execution_count": 17,
      "outputs": [
        {
          "output_type": "display_data",
          "data": {
            "image/png": "[encoded data removed]",
            "text/plain": [
              "<Figure size 1008x576 with 1 Axes>"
            ]
          },
          "metadata": {
            "needs_background": "light"
          }
        }
      ]
    },
    {
      "cell_type": "code",
      "source": [
        "plt.figure(figsize=(16, 8))\n",
        "_ = plot_tree(dt, filled=True,\n",
        "                   feature_names = features,\n",
        "                   fontsize=14, \n",
        "                   proportion=True,\n",
        "                   class_names=['yes','no'])"
      ],
      "metadata": {
        "colab": {
          "base_uri": "https://localhost:8080/",
          "height": 435
        },
        "id": "R0r-lzO82RVo",
        "outputId": "8b097a5e-deed-4784-8748-eebacd5c0c6f"
      },
      "execution_count": 18,
      "outputs": [
        {
          "output_type": "display_data",
          "data": {
            "image/png": "[encoded data removed]",
            "text/plain": [
              "<Figure size 1152x576 with 1 Axes>"
            ]
          },
          "metadata": {
            "needs_background": "light"
          }
        }
      ]
    },
    {
      "cell_type": "markdown",
      "source": [
        "# **Logistic Regression**"
      ],
      "metadata": {
        "id": "gIgladx4nW8R"
      }
    },
    {
      "cell_type": "code",
      "source": [
        "Logistic_Model = LogisticRegression().fit(X_train, y_train)\n",
        "#prediction using Logistic model\n",
        "y_pre_Logistic= Logistic_Model.predict(X_test)"
      ],
      "metadata": {
        "id": "GZ5PQdEAWiu6"
      },
      "execution_count": 19,
      "outputs": []
    },
    {
      "cell_type": "code",
      "source": [
        "conf_matrix= confusion_matrix(y_test, y_pre_Logistic)\n",
        "sns.heatmap(conf_matrix, annot=True)\n",
        "print(classification_report(y_test, y_pre_Logistic))\n"
      ],
      "metadata": {
        "colab": {
          "base_uri": "https://localhost:8080/",
          "height": 421
        },
        "id": "EdqeP4d4YC5j",
        "outputId": "6f699358-ae70-4d31-b291-73c6f0a33eb8"
      },
      "execution_count": 20,
      "outputs": [
        {
          "output_type": "stream",
          "name": "stdout",
          "text": [
            "              precision    recall  f1-score   support\n",
            "\n",
            "           0       0.79      0.97      0.87        62\n",
            "           1       0.99      0.92      0.95       202\n",
            "\n",
            "    accuracy                           0.93       264\n",
            "   macro avg       0.89      0.94      0.91       264\n",
            "weighted avg       0.94      0.93      0.93       264\n",
            "\n"
          ]
        },
        {
          "output_type": "display_data",
          "data": {
            "image/png": "[encoded data removed]",
            "text/plain": [
              "<Figure size 432x288 with 2 Axes>"
            ]
          },
          "metadata": {
            "needs_background": "light"
          }
        }
      ]
    },
    {
      "cell_type": "code",
      "source": [
        "TN = conf_matrix[0, 0]\n",
        "TP = conf_matrix[1, 1]\n",
        "FN = conf_matrix[1, 0]\n",
        "FP = conf_matrix[0, 1]\n",
        "\n",
        "# accuracy\n",
        "accuracy = (TN + TP)/(TN + TP + FN +FP )\n",
        "print(\"accuracy: \", accuracy)\n",
        "\n",
        "\n",
        "# sensitivity\n",
        "sensitivity = TP / (FN + TP)\n",
        "print(\"sensitivity: \", sensitivity)\n",
        "\n",
        "#specificity\n",
        "specificity = TN / (TN + FP)\n",
        "print(\"specificity: \", specificity)"
      ],
      "metadata": {
        "colab": {
          "base_uri": "https://localhost:8080/"
        },
        "id": "bJRIG3WwfYAJ",
        "outputId": "ce261855-99af-4433-cd18-d30747d62c5e"
      },
      "execution_count": 22,
      "outputs": [
        {
          "output_type": "stream",
          "name": "stdout",
          "text": [
            "accuracy:  0.9318181818181818\n",
            "sensitivity:  0.9207920792079208\n",
            "specificity:  0.967741935483871\n"
          ]
        }
      ]
    },
    {
      "cell_type": "markdown",
      "source": [
        "# **KNN CLASSIFIER**"
      ],
      "metadata": {
        "id": "UReHoyX3mezS"
      }
    },
    {
      "cell_type": "code",
      "source": [
        "from sklearn.neighbors import KNeighborsClassifier\n",
        "from sklearn.metrics import classification_report\n",
        "from sklearn.metrics import confusion_matrix\n",
        "\n",
        "# Instantiate a k-NN classifier: knn\n",
        "knn = KNeighborsClassifier(n_neighbors = 7)\n",
        "\n",
        "# Fit the classifier to the training data\n",
        "knn.fit(X_train, y_train)\n",
        "\n",
        "# Predict the labels of the test data: y_pred\n",
        "y_pred = knn.predict(X_test)\n",
        "\n",
        "# Generate the confusion matrix and classification report\n",
        "print(confusion_matrix(y_test, y_pred))\n",
        "print(classification_report(y_test, y_pred))"
      ],
      "metadata": {
        "colab": {
          "base_uri": "https://localhost:8080/"
        },
        "id": "mwuScORCY5kw",
        "outputId": "cf270acf-a23b-4586-d8b0-d0a07790737b"
      },
      "execution_count": 23,
      "outputs": [
        {
          "output_type": "stream",
          "name": "stdout",
          "text": [
            "[[ 42  20]\n",
            " [ 11 191]]\n",
            "              precision    recall  f1-score   support\n",
            "\n",
            "           0       0.79      0.68      0.73        62\n",
            "           1       0.91      0.95      0.92       202\n",
            "\n",
            "    accuracy                           0.88       264\n",
            "   macro avg       0.85      0.81      0.83       264\n",
            "weighted avg       0.88      0.88      0.88       264\n",
            "\n"
          ]
        }
      ]
    },
    {
      "cell_type": "code",
      "source": [
        "# Score the knn classifier \n",
        "acc_knn =knn.score(X_test, y_test)\n",
        "\n",
        "# Print the accuracy\n",
        "print(\"The model Accuracy is\".center(70))\n",
        "print(\"=\"*70)\n",
        "print(\"Test set accuracy: {:.2f}\".format(acc_knn))\n",
        "print(\"-\"*70)"
      ],
      "metadata": {
        "colab": {
          "base_uri": "https://localhost:8080/"
        },
        "id": "pvKq_ta5_aj6",
        "outputId": "6e4478ca-01d5-4581-fdf1-88978a56f1c2"
      },
      "execution_count": 24,
      "outputs": [
        {
          "output_type": "stream",
          "name": "stdout",
          "text": [
            "                        The model Accuracy is                         \n",
            "======================================================================\n",
            "Test set accuracy: 0.88\n",
            "----------------------------------------------------------------------\n"
          ]
        }
      ]
    },
    {
      "cell_type": "markdown",
      "source": [
        "# **Ensemble Algorithme**"
      ],
      "metadata": {
        "id": "p2aAvEpGl4wB"
      }
    },
    {
      "cell_type": "code",
      "source": [
        "from sklearn.neighbors import KNeighborsClassifier as KNN\n",
        "\n",
        "# Instantiate logreg\n",
        "\n",
        "logreg = LogisticRegression(random_state=10)\n",
        "\n",
        "# Instantiate knn\n",
        "knn = KNN(n_neighbors=5)\n",
        "\n",
        "# Instantiate dt\n",
        "dt = DecisionTreeClassifier(min_samples_leaf= 0.03, \n",
        "                            random_state=10)\n",
        "\n",
        "# Define the list classifiers\n",
        "classifiers = [('Logistic Regression', logreg), \n",
        "               ('K Nearest Neighbours', knn), \n",
        "               ('Classification Tree', dt)]\n",
        "\n",
        "# Iterate over the pre-defined list of classifiers\n",
        "for clf_name, clf in classifiers:    \n",
        " \n",
        "    # Fit clf to the training set\n",
        "    clf.fit(X_train, y_train)    \n",
        "   \n",
        "    # Predict y_pred\n",
        "    y_pred = clf.predict(X_test)\n",
        "    \n",
        "    # Calculate accuracy\n",
        "    accuracy = accuracy_score(y_pred, y_test) \n",
        "   \n",
        "    # Evaluate clf's accuracy on the test set\n",
        "    print('{:20}: {:.3f}'.format(clf_name,  accuracy))"
      ],
      "metadata": {
        "id": "wdRQvisCAB_4",
        "colab": {
          "base_uri": "https://localhost:8080/"
        },
        "outputId": "b086e746-2a0d-4b7b-a96b-9002519e907b"
      },
      "execution_count": 25,
      "outputs": [
        {
          "output_type": "stream",
          "name": "stdout",
          "text": [
            "Logistic Regression : 0.932\n",
            "K Nearest Neighbours: 0.864\n",
            "Classification Tree : 0.977\n"
          ]
        }
      ]
    },
    {
      "cell_type": "code",
      "source": [
        "from sklearn.ensemble import VotingClassifier\n",
        "\n",
        "# Instantiate a VotingClassifier vc\n",
        "vc = VotingClassifier(estimators=classifiers)     \n",
        "\n",
        "# Fit vc to the training set\n",
        "vc.fit(X_train, y_train)   \n",
        "\n",
        "# Evaluate the test set predictions\n",
        "y_pred = vc.predict(X_test)\n",
        "\n",
        "# Calculate accuracy score\n",
        "accuracy = accuracy_score(y_pred, y_test)\n",
        "print('Voting Classifier: {:.3f}'.format(accuracy))"
      ],
      "metadata": {
        "colab": {
          "base_uri": "https://localhost:8080/"
        },
        "id": "Tte7Iib-kXRh",
        "outputId": "4c708340-ab97-45e8-aef9-46e57c7d1733"
      },
      "execution_count": 26,
      "outputs": [
        {
          "output_type": "stream",
          "name": "stdout",
          "text": [
            "Voting Classifier: 0.955\n"
          ]
        }
      ]
    },
    {
      "cell_type": "markdown",
      "source": [
        "# **Bagging classifier using decison tree**\n",
        "\n",
        "\n",
        "\n",
        "\n",
        "\n",
        "\n"
      ],
      "metadata": {
        "id": "stWc9iAqo4Vh"
      }
    },
    {
      "cell_type": "code",
      "source": [
        "dt = DecisionTreeClassifier(min_samples_leaf=0.1,\n",
        "                            random_state=1)\n",
        "\n",
        "# Instantiate bagging classifier\n",
        "# ------------------------------\n",
        "bc = BaggingClassifier(base_estimator= dt, \n",
        "                       n_estimators= 100 ,\n",
        "                       oob_score=True,\n",
        "                       random_state=1)\n",
        "\n",
        "# Fit bc to the training set\n",
        "# -------------------------\n",
        "bc.fit(X_train, y_train)\n",
        "\n",
        "# Predict test set labels\n",
        "#-------------------------\n",
        "y_pred = bc.predict(X_test)\n",
        "\n",
        "# Evaluate test set accuracy\n",
        "# --------------------------\n",
        "test_acc = accuracy_score(y_pred, y_test)\n",
        "\n",
        "# Evaluate OOB accuracy\n",
        "# ---------------------\n",
        "oob_acc = bc.oob_score_\n",
        "\n",
        "# Print acc_test and acc_oob\n",
        "# --------------------------\n",
        "print(\"*\"*50)\n",
        "print('Test set accuracy: {:.3f}'.format(test_acc))\n",
        "print(\"*\"*50)\n",
        "print('The OOB accuracy: {:.3f}'.format(oob_acc))"
      ],
      "metadata": {
        "colab": {
          "base_uri": "https://localhost:8080/"
        },
        "id": "Wk8RWroMpNXI",
        "outputId": "5cc5c3a2-3cd4-460e-be4a-5d8601c9d63e"
      },
      "execution_count": 27,
      "outputs": [
        {
          "output_type": "stream",
          "name": "stdout",
          "text": [
            "**************************************************\n",
            "Test set accuracy: 0.977\n",
            "**************************************************\n",
            "The OOB accuracy: 0.985\n"
          ]
        }
      ]
    },
    {
      "cell_type": "markdown",
      "source": [
        "# **Bagging classifier using KNN**\n"
      ],
      "metadata": {
        "id": "nLddc53mrKwl"
      }
    },
    {
      "cell_type": "code",
      "source": [
        "knn = KNN(n_neighbors=5)\n",
        "bc_knn = BaggingClassifier(base_estimator= knn, \n",
        "                       n_estimators= 100 ,\n",
        "                       oob_score=True,\n",
        "                       random_state=1)\n",
        "\n",
        "# Fit bc to the training set\n",
        "# -------------------------\n",
        "bc_knn.fit(X_train, y_train)\n",
        "\n",
        "# Predict test set labels\n",
        "#-------------------------\n",
        "y_pred = bc_knn.predict(X_test)\n",
        "\n",
        "# Evaluate test set accuracy\n",
        "# --------------------------\n",
        "test_acc = accuracy_score(y_pred, y_test)\n",
        "\n",
        "# Evaluate OOB accuracy\n",
        "# ---------------------\n",
        "oob_acc = bc_knn.oob_score_\n",
        "\n",
        "# Print acc_test and acc_oob\n",
        "# --------------------------\n",
        "print(\"*\"*50)\n",
        "print('Test set accuracy: {:.3f}'.format(test_acc))\n",
        "print(\"*\"*50)\n",
        "print('The OOB accuracy: {:.3f}'.format(oob_acc))"
      ],
      "metadata": {
        "colab": {
          "base_uri": "https://localhost:8080/"
        },
        "id": "cvZe6ab-pPaA",
        "outputId": "21621f23-9dc9-4ed2-84a0-5dc4b43680e9"
      },
      "execution_count": 28,
      "outputs": [
        {
          "output_type": "stream",
          "name": "stdout",
          "text": [
            "**************************************************\n",
            "Test set accuracy: 0.871\n",
            "**************************************************\n",
            "The OOB accuracy: 0.853\n"
          ]
        }
      ]
    },
    {
      "cell_type": "markdown",
      "source": [
        "# **Bagging classifier using logistic regression**\n"
      ],
      "metadata": {
        "id": "8_smIXSHrNra"
      }
    },
    {
      "cell_type": "code",
      "source": [
        "lg=LogisticRegression(random_state=10)\n",
        "bc_lg = BaggingClassifier(base_estimator= lg, \n",
        "                       n_estimators= 100 ,\n",
        "                       oob_score=True,\n",
        "                       random_state=1)\n",
        "\n",
        "# Fit bc to the training set\n",
        "# -------------------------\n",
        "bc_lg.fit(X_train, y_train)\n",
        "\n",
        "# Predict test set labels\n",
        "#-------------------------\n",
        "y_pred = bc_lg.predict(X_test)\n",
        "\n",
        "# Evaluate test set accuracy\n",
        "# --------------------------\n",
        "test_acc = accuracy_score(y_pred, y_test)\n",
        "\n",
        "# Evaluate OOB accuracy\n",
        "# ---------------------\n",
        "oob_acc = bc_lg.oob_score_\n",
        "\n",
        "# Print acc_test and acc_oob\n",
        "# --------------------------\n",
        "print(\"*\"*50)\n",
        "print('Test set accuracy: {:.3f}'.format(test_acc))\n",
        "print(\"*\"*50)\n",
        "print('The OOB accuracy: {:.3f}'.format(oob_acc))"
      ],
      "metadata": {
        "colab": {
          "base_uri": "https://localhost:8080/"
        },
        "id": "BEjV8zfQqKFw",
        "outputId": "ec8a5016-3e22-4607-e520-380d5a610c27"
      },
      "execution_count": 29,
      "outputs": [
        {
          "output_type": "stream",
          "name": "stdout",
          "text": [
            "**************************************************\n",
            "Test set accuracy: 0.932\n",
            "**************************************************\n",
            "The OOB accuracy: 0.936\n"
          ]
        }
      ]
    },
    {
      "cell_type": "markdown",
      "source": [
        "# **Adaboost**\n"
      ],
      "metadata": {
        "id": "mLQqwxVAqu6b"
      }
    },
    {
      "cell_type": "code",
      "source": [
        "# -------------------------------\n",
        "from sklearn.model_selection import GridSearchCV\n",
        "\n",
        "ada_tree = AdaBoostClassifier(\n",
        "    base_estimator = DecisionTreeClassifier(\n",
        "                        max_depth=5,                                    \n",
        "                        random_state=1),             \n",
        "                        random_state=1)\n",
        "\n",
        "ada_param_grid = {'n_estimators': [10,30,50, 100,200],\n",
        "                 'learning_rate': [0.01, 0.001,1]}\n",
        "\n",
        "ada_gs = GridSearchCV(estimator=ada_tree ,\n",
        "                       param_grid=ada_param_grid,\n",
        "                       #cv = 10,\n",
        "                       verbose = 1)\n",
        "\n",
        "# Fitting the grid\n",
        "# ---------------\n",
        "ada_gs_model = ada_gs.fit(X_train, y_train)"
      ],
      "metadata": {
        "colab": {
          "base_uri": "https://localhost:8080/"
        },
        "id": "xVIdWO0pxJma",
        "outputId": "34947b10-1dc6-4923-ee21-f8c249059ad1"
      },
      "execution_count": 40,
      "outputs": [
        {
          "output_type": "stream",
          "name": "stdout",
          "text": [
            "Fitting 5 folds for each of 15 candidates, totalling 75 fits\n"
          ]
        }
      ]
    },
    {
      "cell_type": "code",
      "source": [
        "print(\"*\"*40)\n",
        "\n",
        "for hyper_name, val in ada_gs_model.best_params_.items():\n",
        "    print(\"{:15s} : {}\".format(hyper_name, val))\n",
        "print(\"*\"*40)\n",
        "print(\"The best score: {:.4f}\".format(ada_gs_model.best_score_))\n",
        "print(\"*\"*40)"
      ],
      "metadata": {
        "colab": {
          "base_uri": "https://localhost:8080/"
        },
        "id": "U783U4K1yRwZ",
        "outputId": "c33cf08b-de81-41c3-8169-ae0764deb7f3"
      },
      "execution_count": 41,
      "outputs": [
        {
          "output_type": "stream",
          "name": "stdout",
          "text": [
            "****************************************\n",
            "learning_rate   : 1\n",
            "n_estimators    : 50\n",
            "****************************************\n",
            "The best score: 0.9839\n",
            "****************************************\n"
          ]
        }
      ]
    },
    {
      "cell_type": "code",
      "source": [
        "dtree = DecisionTreeClassifier(max_depth=5, random_state=10)\n",
        "#dtree.fit(X_train, Y_train)\n",
        "\n",
        "# Tuning the hyperparams\n",
        "ada_tuned = AdaBoostClassifier(\n",
        "           base_estimator=dtree,                          \n",
        "           n_estimators=50,                                                                              \n",
        "           learning_rate=1,                                   \n",
        "           random_state=1)\n",
        "\n",
        "ada_tuned.fit(X_train, y_train)\n",
        "\n",
        "# The accuracy of tuned model\n",
        "# ---------------------------\n",
        "print(\"*\"*40)\n",
        "print('The Tuned model accuracy is: {:.4}'.format(\n",
        "    (ada_tuned.score(X_test,y_test)))\n",
        "     )\n",
        "print(\"*\"*40)\n",
        "\n",
        "# The Tuned model AUC score\n",
        "# -------------------------\n",
        "y_pred_ada_tuned = ada_tuned.predict_proba(X_test)\n",
        "fpr_ab_tuned, tpr_ab_tuned, thresholds = roc_curve(y_test, y_pred_ada_tuned[:,1])\n",
        "auc_adaboost_tune = auc(fpr_ab_tuned, tpr_ab_tuned)\n",
        "\n",
        "print ('The Tuned Adaboost AUC Score is: {:.4f}'.format(auc_adaboost_tune))\n",
        "print(\"*\"*40)"
      ],
      "metadata": {
        "colab": {
          "base_uri": "https://localhost:8080/"
        },
        "id": "riMeKV11yoJL",
        "outputId": "6d0eacbb-eb66-4a61-82a1-1391387ada58"
      },
      "execution_count": 42,
      "outputs": [
        {
          "output_type": "stream",
          "name": "stdout",
          "text": [
            "****************************************\n",
            "The Tuned model accuracy is: 0.9697\n",
            "****************************************\n",
            "The Tuned Adaboost AUC Score is: 0.9916\n",
            "****************************************\n"
          ]
        }
      ]
    },
    {
      "cell_type": "code",
      "source": [
        ""
      ],
      "metadata": {
        "id": "cs_rpM__yuHn"
      },
      "execution_count": null,
      "outputs": []
    }
  ]
}